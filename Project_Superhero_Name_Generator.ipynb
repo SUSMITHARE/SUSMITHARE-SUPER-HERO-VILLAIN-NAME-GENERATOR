{
  "nbformat": 4,
  "nbformat_minor": 0,
  "metadata": {
    "accelerator": "GPU",
    "colab": {
      "name": "Project - Superhero Name Generator.ipynb",
      "provenance": [],
      "collapsed_sections": []
    },
    "kernelspec": {
      "display_name": "Python 3",
      "language": "python",
      "name": "python3"
    },
    "language_info": {
      "codemirror_mode": {
        "name": "ipython",
        "version": 3
      },
      "file_extension": ".py",
      "mimetype": "text/x-python",
      "name": "python",
      "nbconvert_exporter": "python",
      "pygments_lexer": "ipython3",
      "version": "3.8.3"
    }
  },
  "cells": [
    {
      "cell_type": "markdown",
      "metadata": {
        "id": "21XXWP7Fpt2L"
      },
      "source": [
        "# Superhero (and Supervillain) Name Generator\n",
        "\n",
        "---\n",
        "\n",
        "[Superhero Names Dataset](https://github.com/am1tyadav/superhero)"
      ]
    },
    {
      "cell_type": "markdown",
      "metadata": {
        "id": "H6P0NU5Cpt2R"
      },
      "source": [
        "## Task 2\n",
        "\n",
        "1. Import the data\n",
        "2. Create a tokenizer\n",
        "3. Char to index and Index to char dictionaries"
      ]
    },
    {
      "cell_type": "code",
      "metadata": {
        "colab": {
          "base_uri": "https://localhost:8080/"
        },
        "id": "srULhalZpt2M",
        "outputId": "a99ba1d7-0e09-4bf4-c9e7-b9b3856ed4c8"
      },
      "source": [
        "!git clone https://github.com/am1tyadav/superhero  # downloading the dataset from github"
      ],
      "execution_count": null,
      "outputs": [
        {
          "output_type": "stream",
          "name": "stdout",
          "text": [
            "Cloning into 'superhero'...\n",
            "remote: Enumerating objects: 8, done.\u001b[K\n",
            "remote: Counting objects: 100% (8/8), done.\u001b[K\n",
            "remote: Compressing objects: 100% (7/7), done.\u001b[K\n",
            "remote: Total 8 (delta 0), reused 4 (delta 0), pack-reused 0\u001b[K\n",
            "Unpacking objects: 100% (8/8), done.\n"
          ]
        }
      ]
    },
    {
      "cell_type": "code",
      "metadata": {
        "colab": {
          "base_uri": "https://localhost:8080/",
          "height": 35
        },
        "id": "uq4CLmsLpt2P",
        "outputId": "74e5e5c1-77a2-4754-a0f5-54caad3864dd"
      },
      "source": [
        "with open('superhero/superheroes.txt', 'r') as f:  # opening the downloaded txt file, then read the file\n",
        "  data = f.read()   # store the content of the file in data\n",
        "\n",
        "data[:100]    # dispalying the first 100 names that are stored in the data file"
      ],
      "execution_count": null,
      "outputs": [
        {
          "output_type": "execute_result",
          "data": {
            "application/vnd.google.colaboratory.intrinsic+json": {
              "type": "string"
            },
            "text/plain": [
              "'jumpa\\t\\ndoctor fate\\t\\nstarlight\\t\\nisildur\\t\\nlasher\\t\\nvarvara\\t\\nthe target\\t\\naxel\\t\\nbattra\\t\\nchangeling\\t\\npyrrh'"
            ]
          },
          "metadata": {},
          "execution_count": 4
        }
      ]
    },
    {
      "cell_type": "code",
      "metadata": {
        "colab": {
          "base_uri": "https://localhost:8080/",
          "height": 35
        },
        "id": "JqhtLuAHpt2R",
        "outputId": "3c73bed8-8ace-4c28-e964-c6bfe804c1b2"
      },
      "source": [
        "# creating a charecter level language model\n",
        "# we have to create a numeric representation of the charecters to feed the training model this is called tokenizing\n",
        "import tensorflow as tf\n",
        "tf.__version__"
      ],
      "execution_count": null,
      "outputs": [
        {
          "output_type": "execute_result",
          "data": {
            "application/vnd.google.colaboratory.intrinsic+json": {
              "type": "string"
            },
            "text/plain": [
              "'2.7.0'"
            ]
          },
          "metadata": {},
          "execution_count": 5
        }
      ]
    },
    {
      "cell_type": "code",
      "metadata": {
        "id": "95Lo1Yqzpt2T"
      },
      "source": [
        "# this tokenizer converts charecters to numbers \n",
        "tokenizer = tf.keras.preprocessing.text.Tokenizer(\n",
        "    filters='!\"#$%&()*+,-./:;<=>?@[\\\\]^_`{|}~',\n",
        "    split='\\n',\n",
        ")"
      ],
      "execution_count": null,
      "outputs": []
    },
    {
      "cell_type": "code",
      "metadata": {
        "id": "qYfC4sj2pt2V"
      },
      "source": [
        "tokenizer.fit_on_texts(data)   # fiting the tokenizer to the txt data"
      ],
      "execution_count": null,
      "outputs": []
    },
    {
      "cell_type": "code",
      "metadata": {
        "colab": {
          "base_uri": "https://localhost:8080/"
        },
        "id": "EO4-dPM6pt2X",
        "outputId": "e6638e04-5705-4b3f-cd66-439951b00eaf"
      },
      "source": [
        "char_to_index = tokenizer.word_index\n",
        "index_to_char = dict((v, k) for k, v in char_to_index.items())\n",
        "\n",
        "print(index_to_char)   # so when we get char a it assigns number 2"
      ],
      "execution_count": null,
      "outputs": [
        {
          "output_type": "stream",
          "name": "stdout",
          "text": [
            "{1: '\\t', 2: 'a', 3: 'e', 4: 'r', 5: 'o', 6: 'n', 7: 'i', 8: ' ', 9: 't', 10: 's', 11: 'l', 12: 'm', 13: 'h', 14: 'd', 15: 'c', 16: 'u', 17: 'g', 18: 'k', 19: 'b', 20: 'p', 21: 'y', 22: 'w', 23: 'f', 24: 'v', 25: 'j', 26: 'z', 27: 'x', 28: 'q'}\n"
          ]
        }
      ]
    },
    {
      "cell_type": "markdown",
      "metadata": {
        "id": "SMwtIw_Bpt2Z"
      },
      "source": [
        "## Task 3\n",
        "\n",
        "1. Converting between names and sequences"
      ]
    },
    {
      "cell_type": "code",
      "metadata": {
        "colab": {
          "base_uri": "https://localhost:8080/"
        },
        "id": "N7iQLIXzpt2a",
        "outputId": "9eb2cd46-ac26-402c-f017-74d2eb9367e7"
      },
      "source": [
        "names = data.splitlines()  # spliting data at the new line charecter\n",
        "names[:10]"
      ],
      "execution_count": null,
      "outputs": [
        {
          "output_type": "execute_result",
          "data": {
            "text/plain": [
              "['jumpa\\t',\n",
              " 'doctor fate\\t',\n",
              " 'starlight\\t',\n",
              " 'isildur\\t',\n",
              " 'lasher\\t',\n",
              " 'varvara\\t',\n",
              " 'the target\\t',\n",
              " 'axel\\t',\n",
              " 'battra\\t',\n",
              " 'changeling\\t']"
            ]
          },
          "metadata": {},
          "execution_count": 10
        }
      ]
    },
    {
      "cell_type": "code",
      "metadata": {
        "colab": {
          "base_uri": "https://localhost:8080/"
        },
        "id": "n_-TTfqipt2c",
        "outputId": "6b22a7bb-4d42-46d9-b31c-300efa42e33f"
      },
      "source": [
        "# converting 3rd(starlight) name to the number\n",
        "tokenizer.texts_to_sequences(names[2])"
      ],
      "execution_count": null,
      "outputs": [
        {
          "output_type": "execute_result",
          "data": {
            "text/plain": [
              "[[10], [9], [2], [4], [11], [7], [17], [13], [9], [1]]"
            ]
          },
          "metadata": {},
          "execution_count": 13
        }
      ]
    },
    {
      "cell_type": "code",
      "metadata": {
        "id": "P6IsKH1Upt2e"
      },
      "source": [
        "def name_to_seq(name):\n",
        "  return [tokenizer.texts_to_sequences(c)[0][0] for c in name]  # we have to take 1 charecter at a time \n",
        "# we are using [0][0] to squeeze the dimensions we can see that \n",
        "# in previous example in the output list each element is also a list "
      ],
      "execution_count": null,
      "outputs": []
    },
    {
      "cell_type": "code",
      "metadata": {
        "colab": {
          "base_uri": "https://localhost:8080/"
        },
        "id": "TuLUiMP3pt2g",
        "outputId": "e3f8762e-36ce-4eed-dcc0-1c1554edd94e"
      },
      "source": [
        "name_to_seq(names[2])"
      ],
      "execution_count": null,
      "outputs": [
        {
          "output_type": "execute_result",
          "data": {
            "text/plain": [
              "[10, 9, 2, 4, 11, 7, 17, 13, 9, 1]"
            ]
          },
          "metadata": {},
          "execution_count": 14
        }
      ]
    },
    {
      "cell_type": "code",
      "metadata": {
        "id": "yFUYhimKpt2h"
      },
      "source": [
        "def seq_to_name(seq):\n",
        "  return ''.join([index_to_char[i] for i in seq if i!=0])"
      ],
      "execution_count": null,
      "outputs": []
    },
    {
      "cell_type": "code",
      "metadata": {
        "colab": {
          "base_uri": "https://localhost:8080/",
          "height": 35
        },
        "id": "ROhCqmhLpt2k",
        "outputId": "592230ad-9eb7-4eca-9568-1aaf7e92d879"
      },
      "source": [
        "seq_to_name([10, 9, 2, 4, 11, 7, 17, 13, 9, 1])"
      ],
      "execution_count": null,
      "outputs": [
        {
          "output_type": "execute_result",
          "data": {
            "application/vnd.google.colaboratory.intrinsic+json": {
              "type": "string"
            },
            "text/plain": [
              "'starlight\\t'"
            ]
          },
          "metadata": {},
          "execution_count": 16
        }
      ]
    },
    {
      "cell_type": "markdown",
      "metadata": {
        "id": "uCbAzsNjpt2m"
      },
      "source": [
        "## Task 4\n",
        "\n",
        "1. Creating sequences\n",
        "2. Padding all sequences"
      ]
    },
    {
      "cell_type": "code",
      "metadata": {
        "id": "zstNn-0dpt2m"
      },
      "source": [
        "sequences = []\n",
        "for name in names:\n",
        "  seq = name_to_seq(name)\n",
        "  if len(seq) >= 2:\n",
        "    sequences += [seq[:i] for i in range(2, len(seq) + 1)]"
      ],
      "execution_count": null,
      "outputs": []
    },
    {
      "cell_type": "code",
      "metadata": {
        "colab": {
          "base_uri": "https://localhost:8080/"
        },
        "id": "BjRTMysvpt2o",
        "outputId": "89aca759-1024-4aa8-f32f-d9a0a064733e"
      },
      "source": [
        "sequences[:10]"
      ],
      "execution_count": null,
      "outputs": [
        {
          "output_type": "execute_result",
          "data": {
            "text/plain": [
              "[[25, 16],\n",
              " [25, 16, 12],\n",
              " [25, 16, 12, 20],\n",
              " [25, 16, 12, 20, 2],\n",
              " [25, 16, 12, 20, 2, 1],\n",
              " [14, 5],\n",
              " [14, 5, 15],\n",
              " [14, 5, 15, 9],\n",
              " [14, 5, 15, 9, 5],\n",
              " [14, 5, 15, 9, 5, 4]]"
            ]
          },
          "metadata": {},
          "execution_count": 18
        }
      ]
    },
    {
      "cell_type": "code",
      "metadata": {
        "colab": {
          "base_uri": "https://localhost:8080/"
        },
        "id": "SR68pu2tpt2q",
        "outputId": "eb18381d-9ac0-48b7-90eb-7fcdec28617a"
      },
      "source": [
        "max_len = max([len(x) for x in sequences])\n",
        "print(max_len)"
      ],
      "execution_count": null,
      "outputs": [
        {
          "output_type": "stream",
          "name": "stdout",
          "text": [
            "33\n"
          ]
        }
      ]
    },
    {
      "cell_type": "code",
      "metadata": {
        "colab": {
          "base_uri": "https://localhost:8080/"
        },
        "id": "h_1BtWO7pt2r",
        "outputId": "2b71005a-9f55-44a1-bfe4-a5e723d889e8"
      },
      "source": [
        "padded_sequences = tf.keras.preprocessing.sequence.pad_sequences(sequences, padding='pre', maxlen=max_len)\n",
        "\n",
        "print(padded_sequences[0])"
      ],
      "execution_count": null,
      "outputs": [
        {
          "output_type": "stream",
          "name": "stdout",
          "text": [
            "[ 0  0  0  0  0  0  0  0  0  0  0  0  0  0  0  0  0  0  0  0  0  0  0  0\n",
            "  0  0  0  0  0  0  0 25 16]\n"
          ]
        }
      ]
    },
    {
      "cell_type": "code",
      "metadata": {
        "colab": {
          "base_uri": "https://localhost:8080/"
        },
        "id": "sPlrLRpSpt2t",
        "outputId": "68a719d8-0908-4be1-c4ee-e008d2daa768"
      },
      "source": [
        "padded_sequences.shape"
      ],
      "execution_count": null,
      "outputs": [
        {
          "output_type": "execute_result",
          "data": {
            "text/plain": [
              "(88279, 33)"
            ]
          },
          "metadata": {},
          "execution_count": 21
        }
      ]
    },
    {
      "cell_type": "markdown",
      "metadata": {
        "id": "a5TK059jeZBk"
      },
      "source": [
        "## Task 5: Creating Training and Validation Sets\n",
        "\n",
        "1. Creating training and validation sets"
      ]
    },
    {
      "cell_type": "code",
      "metadata": {
        "id": "BE4BIeSnpt2v",
        "colab": {
          "base_uri": "https://localhost:8080/"
        },
        "outputId": "bcfbffa2-363c-48d0-c80b-ec7e09450076"
      },
      "source": [
        "x,y = padded_sequences[:, :-1], padded_sequences[:, -1]\n",
        "print(x.shape, y.shape)"
      ],
      "execution_count": null,
      "outputs": [
        {
          "output_type": "stream",
          "name": "stdout",
          "text": [
            "(88279, 32) (88279,)\n"
          ]
        }
      ]
    },
    {
      "cell_type": "code",
      "metadata": {
        "id": "NpG7t0DneZBk",
        "colab": {
          "base_uri": "https://localhost:8080/"
        },
        "outputId": "9d184f09-7bb0-43d3-d64c-f910a2bb89f6"
      },
      "source": [
        "from sklearn.model_selection import  train_test_split\n",
        "\n",
        "x_train, x_test, y_train, y_test = train_test_split(x,y)\n",
        "\n",
        "print(x_train.shape, y_train.shape)\n",
        "print(x_test.shape, y_test.shape)"
      ],
      "execution_count": null,
      "outputs": [
        {
          "output_type": "stream",
          "name": "stdout",
          "text": [
            "(66209, 32) (66209,)\n",
            "(22070, 32) (22070,)\n"
          ]
        }
      ]
    },
    {
      "cell_type": "code",
      "metadata": {
        "id": "cgqRZtqnpt2x",
        "colab": {
          "base_uri": "https://localhost:8080/"
        },
        "outputId": "eaa094f5-1b51-4ff9-ad97-ce07fae3b35d"
      },
      "source": [
        "num_chars = len(char_to_index.keys()) + 1\n",
        "print(num_chars)"
      ],
      "execution_count": null,
      "outputs": [
        {
          "output_type": "stream",
          "name": "stdout",
          "text": [
            "29\n"
          ]
        }
      ]
    },
    {
      "cell_type": "markdown",
      "metadata": {
        "id": "vbsjf3yYeZBl"
      },
      "source": [
        "## Task 6: Creating the Model"
      ]
    },
    {
      "cell_type": "code",
      "metadata": {
        "id": "_r0BoaEteZBl",
        "colab": {
          "base_uri": "https://localhost:8080/"
        },
        "outputId": "0b3f14c7-ac49-4600-ba9e-b5fb5c720218"
      },
      "source": [
        "from tensorflow.keras.models import Sequential\n",
        "from tensorflow.keras.layers import Embedding, Conv1D, MaxPool1D, LSTM, Bidirectional, Dense\n",
        "\n",
        "model = Sequential([Embedding(num_chars, 8, input_length=max_len-1),\n",
        "                    Conv1D(64, 5, strides=1, activation='tanh', padding='causal'),\n",
        "                    MaxPool1D(2),\n",
        "                    LSTM(32),\n",
        "                    Dense(num_chars, activation='softmax')]\n",
        "                    )\n",
        "\n",
        "model.compile(\n",
        "    loss='sparse_categorical_crossentropy',\n",
        "    metrics=['accuracy']\n",
        ")\n",
        "model.summary()"
      ],
      "execution_count": null,
      "outputs": [
        {
          "output_type": "stream",
          "name": "stdout",
          "text": [
            "Model: \"sequential\"\n",
            "_________________________________________________________________\n",
            " Layer (type)                Output Shape              Param #   \n",
            "=================================================================\n",
            " embedding (Embedding)       (None, 32, 8)             232       \n",
            "                                                                 \n",
            " conv1d (Conv1D)             (None, 32, 64)            2624      \n",
            "                                                                 \n",
            " max_pooling1d (MaxPooling1D  (None, 16, 64)           0         \n",
            " )                                                               \n",
            "                                                                 \n",
            " lstm (LSTM)                 (None, 32)                12416     \n",
            "                                                                 \n",
            " dense (Dense)               (None, 29)                957       \n",
            "                                                                 \n",
            "=================================================================\n",
            "Total params: 16,229\n",
            "Trainable params: 16,229\n",
            "Non-trainable params: 0\n",
            "_________________________________________________________________\n"
          ]
        }
      ]
    },
    {
      "cell_type": "markdown",
      "metadata": {
        "id": "xddcfQiweZBl"
      },
      "source": [
        "## Task 7: Training the Model"
      ]
    },
    {
      "cell_type": "code",
      "metadata": {
        "id": "j0Ssl4qupt22",
        "colab": {
          "base_uri": "https://localhost:8080/"
        },
        "outputId": "9b54cc10-cdbc-4b35-93dd-ee01d28c2d4c"
      },
      "source": [
        "h= model.fit(x_train, y_train, validation_data=(x_test, y_test), epochs=50, verbose=2,\n",
        "             callbacks=[tf.keras.callbacks.EarlyStopping(monitor='val_accuracy', patience=3)])"
      ],
      "execution_count": null,
      "outputs": [
        {
          "output_type": "stream",
          "name": "stdout",
          "text": [
            "Epoch 1/50\n",
            "2070/2070 - 51s - loss: 2.7640 - accuracy: 0.1846 - val_loss: 2.6258 - val_accuracy: 0.2121 - 51s/epoch - 25ms/step\n",
            "Epoch 2/50\n",
            "2070/2070 - 18s - loss: 2.5689 - accuracy: 0.2286 - val_loss: 2.5350 - val_accuracy: 0.2378 - 18s/epoch - 9ms/step\n",
            "Epoch 3/50\n",
            "2070/2070 - 18s - loss: 2.4921 - accuracy: 0.2471 - val_loss: 2.4699 - val_accuracy: 0.2478 - 18s/epoch - 9ms/step\n",
            "Epoch 4/50\n",
            "2070/2070 - 18s - loss: 2.4389 - accuracy: 0.2600 - val_loss: 2.4326 - val_accuracy: 0.2607 - 18s/epoch - 9ms/step\n",
            "Epoch 5/50\n",
            "2070/2070 - 18s - loss: 2.4013 - accuracy: 0.2702 - val_loss: 2.4038 - val_accuracy: 0.2663 - 18s/epoch - 9ms/step\n",
            "Epoch 6/50\n",
            "2070/2070 - 18s - loss: 2.3714 - accuracy: 0.2778 - val_loss: 2.3805 - val_accuracy: 0.2757 - 18s/epoch - 9ms/step\n",
            "Epoch 7/50\n",
            "2070/2070 - 18s - loss: 2.3457 - accuracy: 0.2875 - val_loss: 2.3612 - val_accuracy: 0.2803 - 18s/epoch - 9ms/step\n",
            "Epoch 8/50\n",
            "2070/2070 - 18s - loss: 2.3219 - accuracy: 0.2958 - val_loss: 2.3437 - val_accuracy: 0.2867 - 18s/epoch - 9ms/step\n",
            "Epoch 9/50\n",
            "2070/2070 - 18s - loss: 2.3007 - accuracy: 0.3012 - val_loss: 2.3295 - val_accuracy: 0.2903 - 18s/epoch - 9ms/step\n",
            "Epoch 10/50\n",
            "2070/2070 - 19s - loss: 2.2800 - accuracy: 0.3088 - val_loss: 2.3112 - val_accuracy: 0.2970 - 19s/epoch - 9ms/step\n",
            "Epoch 11/50\n",
            "2070/2070 - 18s - loss: 2.2622 - accuracy: 0.3138 - val_loss: 2.3044 - val_accuracy: 0.3011 - 18s/epoch - 9ms/step\n",
            "Epoch 12/50\n",
            "2070/2070 - 18s - loss: 2.2451 - accuracy: 0.3191 - val_loss: 2.2915 - val_accuracy: 0.3067 - 18s/epoch - 9ms/step\n",
            "Epoch 13/50\n",
            "2070/2070 - 18s - loss: 2.2292 - accuracy: 0.3253 - val_loss: 2.2801 - val_accuracy: 0.3107 - 18s/epoch - 9ms/step\n",
            "Epoch 14/50\n",
            "2070/2070 - 18s - loss: 2.2138 - accuracy: 0.3294 - val_loss: 2.2786 - val_accuracy: 0.3180 - 18s/epoch - 9ms/step\n",
            "Epoch 15/50\n",
            "2070/2070 - 18s - loss: 2.2006 - accuracy: 0.3343 - val_loss: 2.2651 - val_accuracy: 0.3150 - 18s/epoch - 9ms/step\n",
            "Epoch 16/50\n",
            "2070/2070 - 18s - loss: 2.1884 - accuracy: 0.3375 - val_loss: 2.2599 - val_accuracy: 0.3220 - 18s/epoch - 9ms/step\n",
            "Epoch 17/50\n",
            "2070/2070 - 21s - loss: 2.1754 - accuracy: 0.3429 - val_loss: 2.2632 - val_accuracy: 0.3207 - 21s/epoch - 10ms/step\n",
            "Epoch 18/50\n",
            "2070/2070 - 18s - loss: 2.1651 - accuracy: 0.3463 - val_loss: 2.2486 - val_accuracy: 0.3249 - 18s/epoch - 9ms/step\n",
            "Epoch 19/50\n",
            "2070/2070 - 18s - loss: 2.1545 - accuracy: 0.3493 - val_loss: 2.2456 - val_accuracy: 0.3270 - 18s/epoch - 9ms/step\n",
            "Epoch 20/50\n",
            "2070/2070 - 21s - loss: 2.1448 - accuracy: 0.3542 - val_loss: 2.2438 - val_accuracy: 0.3260 - 21s/epoch - 10ms/step\n",
            "Epoch 21/50\n",
            "2070/2070 - 18s - loss: 2.1347 - accuracy: 0.3572 - val_loss: 2.2450 - val_accuracy: 0.3333 - 18s/epoch - 9ms/step\n",
            "Epoch 22/50\n",
            "2070/2070 - 21s - loss: 2.1265 - accuracy: 0.3598 - val_loss: 2.2342 - val_accuracy: 0.3368 - 21s/epoch - 10ms/step\n",
            "Epoch 23/50\n",
            "2070/2070 - 18s - loss: 2.1177 - accuracy: 0.3611 - val_loss: 2.2392 - val_accuracy: 0.3375 - 18s/epoch - 9ms/step\n",
            "Epoch 24/50\n",
            "2070/2070 - 18s - loss: 2.1091 - accuracy: 0.3651 - val_loss: 2.2328 - val_accuracy: 0.3372 - 18s/epoch - 9ms/step\n",
            "Epoch 25/50\n",
            "2070/2070 - 18s - loss: 2.1016 - accuracy: 0.3669 - val_loss: 2.2367 - val_accuracy: 0.3379 - 18s/epoch - 9ms/step\n",
            "Epoch 26/50\n",
            "2070/2070 - 18s - loss: 2.0945 - accuracy: 0.3714 - val_loss: 2.2304 - val_accuracy: 0.3416 - 18s/epoch - 9ms/step\n",
            "Epoch 27/50\n",
            "2070/2070 - 18s - loss: 2.0870 - accuracy: 0.3733 - val_loss: 2.2282 - val_accuracy: 0.3414 - 18s/epoch - 9ms/step\n",
            "Epoch 28/50\n",
            "2070/2070 - 18s - loss: 2.0818 - accuracy: 0.3756 - val_loss: 2.2280 - val_accuracy: 0.3453 - 18s/epoch - 9ms/step\n",
            "Epoch 29/50\n",
            "2070/2070 - 18s - loss: 2.0740 - accuracy: 0.3783 - val_loss: 2.2236 - val_accuracy: 0.3501 - 18s/epoch - 9ms/step\n",
            "Epoch 30/50\n",
            "2070/2070 - 18s - loss: 2.0687 - accuracy: 0.3809 - val_loss: 2.2314 - val_accuracy: 0.3465 - 18s/epoch - 9ms/step\n",
            "Epoch 31/50\n",
            "2070/2070 - 18s - loss: 2.0640 - accuracy: 0.3817 - val_loss: 2.2355 - val_accuracy: 0.3489 - 18s/epoch - 9ms/step\n",
            "Epoch 32/50\n",
            "2070/2070 - 18s - loss: 2.0584 - accuracy: 0.3828 - val_loss: 2.2291 - val_accuracy: 0.3477 - 18s/epoch - 9ms/step\n"
          ]
        }
      ]
    },
    {
      "cell_type": "code",
      "metadata": {
        "colab": {
          "base_uri": "https://localhost:8080/",
          "height": 265
        },
        "id": "R4z6q8oL2aLb",
        "outputId": "6fffa003-99df-46fd-f0e8-bbc448dd526b"
      },
      "source": [
        "from matplotlib import pyplot as plt \n",
        "epochs_ran = len(h.history['loss'])\n",
        "\n",
        "plt.plot(range(0, epochs_ran), h.history['val_accuracy'], label='Validation')\n",
        "plt.plot(range(0, epochs_ran), h.history['accuracy'], label='Validation')\n",
        "plt.legend()\n",
        "plt.show()"
      ],
      "execution_count": null,
      "outputs": [
        {
          "output_type": "display_data",
          "data": {
            "image/png": "[encoded data removed]",
            "text/plain": [
              "<Figure size 432x288 with 1 Axes>"
            ]
          },
          "metadata": {
            "needs_background": "light"
          }
        }
      ]
    },
    {
      "cell_type": "markdown",
      "metadata": {
        "id": "LuO8si7BeZBl"
      },
      "source": [
        "## Task 8: Generate Names!"
      ]
    },
    {
      "cell_type": "code",
      "metadata": {
        "id": "9f50aTRcpt24"
      },
      "source": [
        "def generated_names(seed):\n",
        "  for i in range(0, 40):\n",
        "    seq = name_to_seq(seed)\n",
        "    padded = tf.keras.preprocessing.sequence.pad_sequences([seq], padding='pre', maxlen=max_len-1, truncating='pre')\n",
        "\n",
        "    pred = model.predict(padded)[0]\n",
        "    pred_char = index_to_char[tf.argmax(pred).numpy()]\n",
        "    seed += pred_char\n",
        "    \n",
        "    if pred_char == '\\t':\n",
        "      break\n",
        "    print(seed)"
      ],
      "execution_count": null,
      "outputs": []
    },
    {
      "cell_type": "code",
      "metadata": {
        "id": "faQ0FInlpt26",
        "colab": {
          "base_uri": "https://localhost:8080/"
        },
        "outputId": "3b8e76d4-542a-40c5-b717-e9f7e16842fb"
      },
      "source": [
        "generated_names('m')"
      ],
      "execution_count": null,
      "outputs": [
        {
          "output_type": "stream",
          "name": "stdout",
          "text": [
            "ma\n",
            "mar\n",
            "marn\n",
            "marni\n",
            "marnis\n",
            "marnis \n",
            "marnis m\n",
            "marnis mo\n",
            "marnis mon\n",
            "marnis mons\n",
            "marnis monst\n",
            "marnis monste\n",
            "marnis monster\n"
          ]
        }
      ]
    }
  ]
}